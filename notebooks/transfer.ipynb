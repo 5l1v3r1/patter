{
 "cells": [
  {
   "cell_type": "code",
   "execution_count": null,
   "metadata": {},
   "outputs": [],
   "source": [
    "from tqdm import tqdm\n",
    "import numpy as np\n",
    "import torch\n",
    "import copy\n",
    "import math\n",
    "from torch.utils.data import DataLoader\n",
    "from patter import ModelFactory\n",
    "from patter.data import AudioDataset, BucketingSampler, audio_seq_collate_fn\n",
    "from patter.decoder import GreedyCTCDecoder\n",
    "from patter.data.features import PerturbedSpectrogramFeaturizer\n",
    "from patter.evaluator import validate\n",
    "from patter.models import SpeechModel"
   ]
  },
  {
   "cell_type": "code",
   "execution_count": null,
   "metadata": {},
   "outputs": [],
   "source": [
    "# load the model you're starting from\n",
    "seed_model_path = \"/data/users/ryan/models/deepspeech/librispeech_pretrained_patter.pt\"\n",
    "seed_model = ModelFactory.load(seed_model_path)"
   ]
  },
  {
   "cell_type": "code",
   "execution_count": 3,
   "metadata": {},
   "outputs": [],
   "source": [
    "# specify paths of where the new model should be saved, and the train/val manifests to use in training\n",
    "new_model_path = \"/data/users/ryan/models/deepspeech/an4_transferred.pt\"\n",
    "train_manifest_path = \"/home/ryan/data/patter_data/an4-jl/an4_train_manifest.jl\"\n",
    "val_manifest_path = \"/home/ryan/data/patter_data/an4-jl/an4_val_manifest.jl\""
   ]
  },
  {
   "cell_type": "code",
   "execution_count": 4,
   "metadata": {},
   "outputs": [],
   "source": [
    "# make a copy of the model\n",
    "model = copy.copy(seed_model)"
   ]
  },
  {
   "cell_type": "code",
   "execution_count": 5,
   "metadata": {},
   "outputs": [
    {
     "name": "stdout",
     "output_type": "stream",
     "text": [
      "New Labels: ['\\xa0', \"'\", 'A', 'B', 'C', 'D', 'E', 'F', 'G', 'H', 'I', 'J', 'K', 'L', 'M', 'N', 'O', 'P', 'Q', 'R', 'S', 'T', 'U', 'V', 'W', 'X', 'Y', 'Z', ' ']\n"
     ]
    }
   ],
   "source": [
    "# decide on set of labels you want for the new model\n",
    "# for this experiment (going from english to english, we can just reuse the set of labels from the original model)\n",
    "# NB: the first label MUST represent the CTC blank label (canonically is '\\xa0')\n",
    "labels = seed_model.labels\n",
    "\n",
    "# when new labels are set, tack them into the model\n",
    "model.labels = labels\n",
    "print(\"New Labels:\", labels)"
   ]
  },
  {
   "cell_type": "code",
   "execution_count": 6,
   "metadata": {},
   "outputs": [],
   "source": [
    "# create a new output layer entirely\n",
    "model.output[1] = torch.nn.Linear(in_features=800, out_features=len(labels), bias=False)\n",
    "\n",
    "# and initialize it\n",
    "for p in model.output[1].parameters():\n",
    "    torch.nn.init.xavier_uniform_(p)"
   ]
  },
  {
   "cell_type": "code",
   "execution_count": 7,
   "metadata": {},
   "outputs": [],
   "source": [
    "# set requires_grad = False for all but the output layers\n",
    "for x, y in model.conv.named_parameters():\n",
    "    y.requires_grad_(False)\n",
    "for x, y in model.rnn.named_parameters():\n",
    "    y.requires_grad_(False)"
   ]
  },
  {
   "cell_type": "code",
   "execution_count": 8,
   "metadata": {},
   "outputs": [
    {
     "name": "stdout",
     "output_type": "stream",
     "text": [
      "Dataset loaded with 0.70 hours. Filtered 0.00 hours.\n",
      "Dataset loaded with 0.10 hours. Filtered 0.00 hours.\n"
     ]
    }
   ],
   "source": [
    "# create a featurizer based on the model's expected features, optionally specify perturbations on training data\n",
    "featurizer = PerturbedSpectrogramFeaturizer.from_config(seed_model.input_cfg, perturbation_configs=None)\n",
    "\n",
    "# load datasets for train and dev sets that you want to transfer model to\n",
    "train_corpus = AudioDataset(train_manifest_path, labels, featurizer, max_duration=17.0, min_duration=1.0)\n",
    "val_corpus = AudioDataset(val_manifest_path, labels, featurizer, max_duration=17.0, min_duration=1.0)"
   ]
  },
  {
   "cell_type": "code",
   "execution_count": 9,
   "metadata": {},
   "outputs": [],
   "source": [
    "# set up data loaders\n",
    "batch_size = 32\n",
    "num_workers = 4\n",
    "cuda = True\n",
    "train_sampler = BucketingSampler(train_corpus, batch_size=batch_size)\n",
    "train_loader = DataLoader(train_corpus, num_workers=num_workers, collate_fn=audio_seq_collate_fn, pin_memory=cuda, batch_sampler=train_sampler)\n",
    "eval_loader = DataLoader(val_corpus, num_workers=4, collate_fn=audio_seq_collate_fn, pin_memory=cuda, batch_size=batch_size)"
   ]
  },
  {
   "cell_type": "code",
   "execution_count": 10,
   "metadata": {},
   "outputs": [],
   "source": [
    "if cuda:\n",
    "    model = model.cuda()"
   ]
  },
  {
   "cell_type": "code",
   "execution_count": 11,
   "metadata": {},
   "outputs": [],
   "source": [
    "# set up optimizer\n",
    "lr = 3e-4\n",
    "momentum = 0.9\n",
    "annealing = 1.01\n",
    "trainable_params = set([x for x in model.parameters() if x.requires_grad])\n",
    "\n",
    "# we typically use SGD w/ nesterov momentum and a custom learning rate schedule\n",
    "#optimizer = torch.optim.SGD(trainable_params, lr=lr, momentum=momentum, nesterov=True)\n",
    "#scheduler = torch.optim.lr_scheduler.StepLR(optimizer, step_size=1, gamma=1/annealing)\n",
    "\n",
    "# Don't need a learning rate schedule if using Adam\n",
    "class NoOpScheduler(object):\n",
    "    def __init__(self):\n",
    "        pass\n",
    "\n",
    "    def step(self):\n",
    "        pass\n",
    "\n",
    "# but for example purposes, we'll just use Adam\n",
    "optimizer = torch.optim.Adam(trainable_params, lr=lr, amsgrad=True)\n",
    "scheduler = NoOpScheduler()"
   ]
  },
  {
   "cell_type": "code",
   "execution_count": 12,
   "metadata": {},
   "outputs": [
    {
     "name": "stdout",
     "output_type": "stream",
     "text": [
      "WER: 102.872, CER: 277.516\n"
     ]
    }
   ],
   "source": [
    "# Report the initial performance of the model on the new validation set:\n",
    "err = validate(eval_loader, model, tqdm=False)\n",
    "print(\"WER: {0:.3f}, CER: {1:.3f}\".format(err.wer, err.cer))\n",
    "\n",
    "best_wer = err.wer"
   ]
  },
  {
   "cell_type": "code",
   "execution_count": 13,
   "metadata": {},
   "outputs": [
    {
     "name": "stderr",
     "output_type": "stream",
     "text": [
      "Epoch 2:   0%|          | 0/29 [00:00<?, ?it/s]         "
     ]
    },
    {
     "name": "stdout",
     "output_type": "stream",
     "text": [
      "Epoch 1 :: WER: 110.183, CER: 112.736\n"
     ]
    },
    {
     "name": "stderr",
     "output_type": "stream",
     "text": [
      "                                                        \r"
     ]
    },
    {
     "name": "stdout",
     "output_type": "stream",
     "text": [
      "Epoch 2 :: WER: 97.128, CER: 58.766\n"
     ]
    },
    {
     "name": "stderr",
     "output_type": "stream",
     "text": [
      "Epoch 4:   0%|          | 0/29 [00:00<?, ?it/s]         "
     ]
    },
    {
     "name": "stdout",
     "output_type": "stream",
     "text": [
      "Epoch 3 :: WER: 99.217, CER: 68.868\n"
     ]
    },
    {
     "name": "stderr",
     "output_type": "stream",
     "text": [
      "Epoch 5:   0%|          | 0/29 [00:00<?, ?it/s]         "
     ]
    },
    {
     "name": "stdout",
     "output_type": "stream",
     "text": [
      "Epoch 4 :: WER: 99.739, CER: 70.715\n"
     ]
    },
    {
     "name": "stderr",
     "output_type": "stream",
     "text": [
      "Epoch 6:   0%|          | 0/29 [00:00<?, ?it/s]         "
     ]
    },
    {
     "name": "stdout",
     "output_type": "stream",
     "text": [
      "Epoch 5 :: WER: 99.217, CER: 66.863\n"
     ]
    },
    {
     "name": "stderr",
     "output_type": "stream",
     "text": [
      "Epoch 7:   0%|          | 0/29 [00:00<?, ?it/s]         "
     ]
    },
    {
     "name": "stdout",
     "output_type": "stream",
     "text": [
      "Epoch 6 :: WER: 99.739, CER: 57.783\n"
     ]
    },
    {
     "name": "stderr",
     "output_type": "stream",
     "text": [
      "Epoch 8:   0%|          | 0/29 [00:00<?, ?it/s]         "
     ]
    },
    {
     "name": "stdout",
     "output_type": "stream",
     "text": [
      "Epoch 7 :: WER: 97.781, CER: 44.300\n"
     ]
    },
    {
     "name": "stderr",
     "output_type": "stream",
     "text": [
      "                                                        \r"
     ]
    },
    {
     "name": "stdout",
     "output_type": "stream",
     "text": [
      "Epoch 8 :: WER: 95.561, CER: 35.888\n"
     ]
    },
    {
     "name": "stderr",
     "output_type": "stream",
     "text": [
      "                                                        \r"
     ]
    },
    {
     "name": "stdout",
     "output_type": "stream",
     "text": [
      "Epoch 9 :: WER: 92.298, CER: 28.184\n"
     ]
    },
    {
     "name": "stderr",
     "output_type": "stream",
     "text": [
      "                                                         \r"
     ]
    },
    {
     "name": "stdout",
     "output_type": "stream",
     "text": [
      "Epoch 10 :: WER: 85.640, CER: 23.349\n"
     ]
    },
    {
     "name": "stderr",
     "output_type": "stream",
     "text": [
      "                                                         \r"
     ]
    },
    {
     "name": "stdout",
     "output_type": "stream",
     "text": [
      "Epoch 11 :: WER: 77.546, CER: 19.182\n"
     ]
    },
    {
     "name": "stderr",
     "output_type": "stream",
     "text": [
      "                                                         \r"
     ]
    },
    {
     "name": "stdout",
     "output_type": "stream",
     "text": [
      "Epoch 12 :: WER: 69.713, CER: 16.903\n"
     ]
    },
    {
     "name": "stderr",
     "output_type": "stream",
     "text": [
      "                                                         \r"
     ]
    },
    {
     "name": "stdout",
     "output_type": "stream",
     "text": [
      "Epoch 13 :: WER: 58.486, CER: 13.679\n"
     ]
    },
    {
     "name": "stderr",
     "output_type": "stream",
     "text": [
      "                                                         \r"
     ]
    },
    {
     "name": "stdout",
     "output_type": "stream",
     "text": [
      "Epoch 14 :: WER: 55.483, CER: 12.736\n"
     ]
    },
    {
     "name": "stderr",
     "output_type": "stream",
     "text": [
      "                                                         \r"
     ]
    },
    {
     "name": "stdout",
     "output_type": "stream",
     "text": [
      "Epoch 15 :: WER: 48.172, CER: 11.321\n"
     ]
    },
    {
     "name": "stderr",
     "output_type": "stream",
     "text": [
      "Epoch 17:   0%|          | 0/29 [00:00<?, ?it/s]         "
     ]
    },
    {
     "name": "stdout",
     "output_type": "stream",
     "text": [
      "Epoch 16 :: WER: 48.956, CER: 10.063\n"
     ]
    },
    {
     "name": "stderr",
     "output_type": "stream",
     "text": [
      "                                                         \r"
     ]
    },
    {
     "name": "stdout",
     "output_type": "stream",
     "text": [
      "Epoch 17 :: WER: 45.953, CER: 9.355\n"
     ]
    },
    {
     "name": "stderr",
     "output_type": "stream",
     "text": [
      "                                                         \r"
     ]
    },
    {
     "name": "stdout",
     "output_type": "stream",
     "text": [
      "Epoch 18 :: WER: 44.517, CER: 9.041\n"
     ]
    },
    {
     "name": "stderr",
     "output_type": "stream",
     "text": [
      "                                                         \r"
     ]
    },
    {
     "name": "stdout",
     "output_type": "stream",
     "text": [
      "Epoch 19 :: WER: 40.209, CER: 7.665\n"
     ]
    },
    {
     "name": "stderr",
     "output_type": "stream",
     "text": [
      "                                                         \r"
     ]
    },
    {
     "name": "stdout",
     "output_type": "stream",
     "text": [
      "Epoch 20 :: WER: 32.115, CER: 6.918\n"
     ]
    },
    {
     "name": "stderr",
     "output_type": "stream",
     "text": [
      "                                                         \r"
     ]
    },
    {
     "name": "stdout",
     "output_type": "stream",
     "text": [
      "Epoch 21 :: WER: 31.070, CER: 6.643\n"
     ]
    },
    {
     "name": "stderr",
     "output_type": "stream",
     "text": [
      "                                                         \r"
     ]
    },
    {
     "name": "stdout",
     "output_type": "stream",
     "text": [
      "Epoch 22 :: WER: 27.676, CER: 6.643\n"
     ]
    },
    {
     "name": "stderr",
     "output_type": "stream",
     "text": [
      "                                                         \r"
     ]
    },
    {
     "name": "stdout",
     "output_type": "stream",
     "text": [
      "Epoch 23 :: WER: 23.890, CER: 5.975\n"
     ]
    },
    {
     "name": "stderr",
     "output_type": "stream",
     "text": [
      "                                                         \r"
     ]
    },
    {
     "name": "stdout",
     "output_type": "stream",
     "text": [
      "Epoch 24 :: WER: 21.802, CER: 5.818\n"
     ]
    },
    {
     "name": "stderr",
     "output_type": "stream",
     "text": [
      "                                                         \r"
     ]
    },
    {
     "name": "stdout",
     "output_type": "stream",
     "text": [
      "Epoch 25 :: WER: 19.974, CER: 5.307\n"
     ]
    },
    {
     "name": "stderr",
     "output_type": "stream",
     "text": [
      "Epoch 27:   0%|          | 0/29 [00:00<?, ?it/s]         "
     ]
    },
    {
     "name": "stdout",
     "output_type": "stream",
     "text": [
      "Epoch 26 :: WER: 20.627, CER: 5.739\n"
     ]
    },
    {
     "name": "stderr",
     "output_type": "stream",
     "text": [
      "                                                         \r"
     ]
    },
    {
     "name": "stdout",
     "output_type": "stream",
     "text": [
      "Epoch 27 :: WER: 18.146, CER: 5.031\n"
     ]
    },
    {
     "name": "stderr",
     "output_type": "stream",
     "text": [
      "                                                         \r"
     ]
    },
    {
     "name": "stdout",
     "output_type": "stream",
     "text": [
      "Epoch 28 :: WER: 17.755, CER: 5.071\n"
     ]
    },
    {
     "name": "stderr",
     "output_type": "stream",
     "text": [
      "                                                         \r"
     ]
    },
    {
     "name": "stdout",
     "output_type": "stream",
     "text": [
      "Epoch 29 :: WER: 17.102, CER: 4.717\n"
     ]
    },
    {
     "name": "stderr",
     "output_type": "stream",
     "text": [
      "                                                         \r"
     ]
    },
    {
     "name": "stdout",
     "output_type": "stream",
     "text": [
      "Epoch 30 :: WER: 16.710, CER: 5.071\n"
     ]
    },
    {
     "name": "stderr",
     "output_type": "stream",
     "text": [
      "                                                         \r"
     ]
    },
    {
     "name": "stdout",
     "output_type": "stream",
     "text": [
      "Epoch 31 :: WER: 14.752, CER: 4.442\n"
     ]
    },
    {
     "name": "stderr",
     "output_type": "stream",
     "text": [
      "Epoch 33:   0%|          | 0/29 [00:00<?, ?it/s]         "
     ]
    },
    {
     "name": "stdout",
     "output_type": "stream",
     "text": [
      "Epoch 32 :: WER: 14.752, CER: 4.442\n"
     ]
    },
    {
     "name": "stderr",
     "output_type": "stream",
     "text": [
      "Epoch 34:   0%|          | 0/29 [00:00<?, ?it/s]         "
     ]
    },
    {
     "name": "stdout",
     "output_type": "stream",
     "text": [
      "Epoch 33 :: WER: 14.752, CER: 4.324\n"
     ]
    },
    {
     "name": "stderr",
     "output_type": "stream",
     "text": [
      "                                                         \r"
     ]
    },
    {
     "name": "stdout",
     "output_type": "stream",
     "text": [
      "Epoch 34 :: WER: 14.360, CER: 4.285\n"
     ]
    },
    {
     "name": "stderr",
     "output_type": "stream",
     "text": [
      "                                                         \r"
     ]
    },
    {
     "name": "stdout",
     "output_type": "stream",
     "text": [
      "Epoch 35 :: WER: 14.099, CER: 3.931\n"
     ]
    },
    {
     "name": "stderr",
     "output_type": "stream",
     "text": [
      "                                                         \r"
     ]
    },
    {
     "name": "stdout",
     "output_type": "stream",
     "text": [
      "Epoch 36 :: WER: 13.577, CER: 4.088\n"
     ]
    },
    {
     "name": "stderr",
     "output_type": "stream",
     "text": [
      "Epoch 38:   0%|          | 0/29 [00:00<?, ?it/s]         "
     ]
    },
    {
     "name": "stdout",
     "output_type": "stream",
     "text": [
      "Epoch 37 :: WER: 13.708, CER: 3.970\n"
     ]
    },
    {
     "name": "stderr",
     "output_type": "stream",
     "text": [
      "                                                         \r"
     ]
    },
    {
     "name": "stdout",
     "output_type": "stream",
     "text": [
      "Epoch 38 :: WER: 13.055, CER: 3.813\n"
     ]
    },
    {
     "name": "stderr",
     "output_type": "stream",
     "text": [
      "                                                         \r"
     ]
    },
    {
     "name": "stdout",
     "output_type": "stream",
     "text": [
      "Epoch 39 :: WER: 12.924, CER: 3.695\n"
     ]
    },
    {
     "name": "stderr",
     "output_type": "stream",
     "text": [
      "                                                         \r"
     ]
    },
    {
     "name": "stdout",
     "output_type": "stream",
     "text": [
      "Epoch 40 :: WER: 12.402, CER: 3.616\n"
     ]
    }
   ],
   "source": [
    "num_epochs = 40\n",
    "for epoch in range(num_epochs):\n",
    "    train_sampler.shuffle()\n",
    "    scheduler.step()\n",
    "    \n",
    "    model.train()\n",
    "    train_loader = tqdm(train_loader, desc=\"Epoch {}\".format(epoch+1), leave=False)\n",
    "    for i, data in enumerate(train_loader):\n",
    "        feat, target, feat_len, target_len = data\n",
    "        if cuda:\n",
    "            feat = feat.cuda(async=True)\n",
    "        \n",
    "        optimizer.zero_grad()\n",
    "        \n",
    "        output, output_len = model(feat, feat_len)\n",
    "        loss = model.loss(output, target, output_len.squeeze(0), target_len)\n",
    "        \n",
    "        scalar_loss = loss.item()/feat.size(0)\n",
    "        if abs(scalar_loss) == math.inf:\n",
    "            scalar_loss = 0\n",
    "        \n",
    "        loss.backward()\n",
    "        torch.nn.utils.clip_grad_norm_(trainable_params, 400)\n",
    "        optimizer.step()\n",
    "    model.eval()\n",
    "    err = validate(eval_loader, model, tqdm=False)\n",
    "    print(\"Epoch {0} :: WER: {1:.3f}, CER: {2:.3f}\".format(epoch+1, err.wer, err.cer))\n",
    "    \n",
    "    if err.wer < best_wer:\n",
    "        best_wer = err.wer\n",
    "        torch.save(SpeechModel.serialize(model), new_model_path)"
   ]
  },
  {
   "cell_type": "code",
   "execution_count": 14,
   "metadata": {},
   "outputs": [
    {
     "name": "stdout",
     "output_type": "stream",
     "text": [
      "WER: 12.402, CER: 3.616\n"
     ]
    }
   ],
   "source": [
    "# reload the previously best found model\n",
    "model = ModelFactory.load(new_model_path)\n",
    "if cuda:\n",
    "    model = model.cuda()\n",
    "\n",
    "err = validate(eval_loader, model, tqdm=False)\n",
    "print(\"WER: {0:.3f}, CER: {1:.3f}\".format(err.wer, err.cer))\n",
    "\n",
    "# add the rnns for additional fine tuning\n",
    "for x, y in model.conv.named_parameters():\n",
    "    y.requires_grad_(False)\n",
    "trainable_params = set([x for x in model.parameters() if x.requires_grad])\n",
    "optimizer = torch.optim.Adam(trainable_params, lr=3e-4, amsgrad=True)"
   ]
  },
  {
   "cell_type": "code",
   "execution_count": 16,
   "metadata": {},
   "outputs": [
    {
     "name": "stderr",
     "output_type": "stream",
     "text": [
      "Epoch 1: 100%|██████████| 29/29 [00:07<00:00,  3.77it/s]\n"
     ]
    },
    {
     "name": "stdout",
     "output_type": "stream",
     "text": [
      "Epoch 1 :: WER: 3.264, CER: 1.140\n"
     ]
    },
    {
     "name": "stderr",
     "output_type": "stream",
     "text": [
      "Epoch 2: 100%|██████████| 29/29 [00:07<00:00,  3.93it/s]\n"
     ]
    },
    {
     "name": "stdout",
     "output_type": "stream",
     "text": [
      "Epoch 2 :: WER: 1.958, CER: 0.865\n"
     ]
    },
    {
     "name": "stderr",
     "output_type": "stream",
     "text": [
      "Epoch 3: 100%|██████████| 29/29 [00:07<00:00,  3.91it/s]\n",
      "Epoch 4:   0%|          | 0/29 [00:00<?, ?it/s]"
     ]
    },
    {
     "name": "stdout",
     "output_type": "stream",
     "text": [
      "Epoch 3 :: WER: 1.958, CER: 0.865\n"
     ]
    },
    {
     "name": "stderr",
     "output_type": "stream",
     "text": [
      "Epoch 4: 100%|██████████| 29/29 [00:07<00:00,  3.85it/s]\n"
     ]
    },
    {
     "name": "stdout",
     "output_type": "stream",
     "text": [
      "Epoch 4 :: WER: 1.697, CER: 0.747\n"
     ]
    },
    {
     "name": "stderr",
     "output_type": "stream",
     "text": [
      "Epoch 5: 100%|██████████| 29/29 [00:07<00:00,  3.89it/s]\n",
      "Epoch 6:   0%|          | 0/29 [00:00<?, ?it/s]"
     ]
    },
    {
     "name": "stdout",
     "output_type": "stream",
     "text": [
      "Epoch 5 :: WER: 1.697, CER: 0.668\n"
     ]
    },
    {
     "name": "stderr",
     "output_type": "stream",
     "text": [
      "Epoch 6: 100%|██████████| 29/29 [00:07<00:00,  3.74it/s]\n",
      "Epoch 7:   0%|          | 0/29 [00:00<?, ?it/s]"
     ]
    },
    {
     "name": "stdout",
     "output_type": "stream",
     "text": [
      "Epoch 6 :: WER: 1.697, CER: 0.629\n"
     ]
    },
    {
     "name": "stderr",
     "output_type": "stream",
     "text": [
      "Epoch 7: 100%|██████████| 29/29 [00:07<00:00,  3.84it/s]\n"
     ]
    },
    {
     "name": "stdout",
     "output_type": "stream",
     "text": [
      "Epoch 7 :: WER: 1.436, CER: 0.550\n"
     ]
    },
    {
     "name": "stderr",
     "output_type": "stream",
     "text": [
      "Epoch 8: 100%|██████████| 29/29 [00:07<00:00,  3.83it/s]\n",
      "Epoch 9:   0%|          | 0/29 [00:00<?, ?it/s]"
     ]
    },
    {
     "name": "stdout",
     "output_type": "stream",
     "text": [
      "Epoch 8 :: WER: 1.567, CER: 0.629\n"
     ]
    },
    {
     "name": "stderr",
     "output_type": "stream",
     "text": [
      "Epoch 9: 100%|██████████| 29/29 [00:07<00:00,  3.73it/s]\n",
      "Epoch 10:   0%|          | 0/29 [00:00<?, ?it/s]"
     ]
    },
    {
     "name": "stdout",
     "output_type": "stream",
     "text": [
      "Epoch 9 :: WER: 1.567, CER: 0.590\n"
     ]
    },
    {
     "name": "stderr",
     "output_type": "stream",
     "text": [
      "Epoch 10: 100%|██████████| 29/29 [00:07<00:00,  3.80it/s]\n",
      "Epoch 11:   0%|          | 0/29 [00:00<?, ?it/s]"
     ]
    },
    {
     "name": "stdout",
     "output_type": "stream",
     "text": [
      "Epoch 10 :: WER: 1.567, CER: 0.590\n"
     ]
    },
    {
     "name": "stderr",
     "output_type": "stream",
     "text": [
      "Epoch 11: 100%|██████████| 29/29 [00:07<00:00,  3.85it/s]\n",
      "Epoch 12:   0%|          | 0/29 [00:00<?, ?it/s]"
     ]
    },
    {
     "name": "stdout",
     "output_type": "stream",
     "text": [
      "Epoch 11 :: WER: 1.436, CER: 0.550\n"
     ]
    },
    {
     "name": "stderr",
     "output_type": "stream",
     "text": [
      "Epoch 12: 100%|██████████| 29/29 [00:07<00:00,  3.80it/s]\n"
     ]
    },
    {
     "name": "stdout",
     "output_type": "stream",
     "text": [
      "Epoch 12 :: WER: 1.305, CER: 0.511\n"
     ]
    },
    {
     "name": "stderr",
     "output_type": "stream",
     "text": [
      "Epoch 13: 100%|██████████| 29/29 [00:07<00:00,  3.82it/s]\n",
      "Epoch 14:   0%|          | 0/29 [00:00<?, ?it/s]"
     ]
    },
    {
     "name": "stdout",
     "output_type": "stream",
     "text": [
      "Epoch 13 :: WER: 1.436, CER: 0.550\n"
     ]
    },
    {
     "name": "stderr",
     "output_type": "stream",
     "text": [
      "Epoch 14: 100%|██████████| 29/29 [00:07<00:00,  3.90it/s]\n",
      "Epoch 15:   0%|          | 0/29 [00:00<?, ?it/s]"
     ]
    },
    {
     "name": "stdout",
     "output_type": "stream",
     "text": [
      "Epoch 14 :: WER: 1.567, CER: 0.590\n"
     ]
    },
    {
     "name": "stderr",
     "output_type": "stream",
     "text": [
      "Epoch 15: 100%|██████████| 29/29 [00:07<00:00,  3.75it/s]\n",
      "Epoch 16:   0%|          | 0/29 [00:00<?, ?it/s]"
     ]
    },
    {
     "name": "stdout",
     "output_type": "stream",
     "text": [
      "Epoch 15 :: WER: 1.436, CER: 0.550\n"
     ]
    },
    {
     "name": "stderr",
     "output_type": "stream",
     "text": [
      "Epoch 16: 100%|██████████| 29/29 [00:07<00:00,  3.77it/s]\n",
      "Epoch 17:   0%|          | 0/29 [00:00<?, ?it/s]"
     ]
    },
    {
     "name": "stdout",
     "output_type": "stream",
     "text": [
      "Epoch 16 :: WER: 1.436, CER: 0.550\n"
     ]
    },
    {
     "name": "stderr",
     "output_type": "stream",
     "text": [
      "Epoch 17: 100%|██████████| 29/29 [00:07<00:00,  3.85it/s]\n",
      "Epoch 18:   0%|          | 0/29 [00:00<?, ?it/s]"
     ]
    },
    {
     "name": "stdout",
     "output_type": "stream",
     "text": [
      "Epoch 17 :: WER: 1.436, CER: 0.590\n"
     ]
    },
    {
     "name": "stderr",
     "output_type": "stream",
     "text": [
      "Epoch 18: 100%|██████████| 29/29 [00:07<00:00,  3.90it/s]\n",
      "Epoch 19:   0%|          | 0/29 [00:00<?, ?it/s]"
     ]
    },
    {
     "name": "stdout",
     "output_type": "stream",
     "text": [
      "Epoch 18 :: WER: 1.697, CER: 0.629\n"
     ]
    },
    {
     "name": "stderr",
     "output_type": "stream",
     "text": [
      "Epoch 19: 100%|██████████| 29/29 [00:07<00:00,  3.92it/s]\n",
      "Epoch 20:   0%|          | 0/29 [00:00<?, ?it/s]"
     ]
    },
    {
     "name": "stdout",
     "output_type": "stream",
     "text": [
      "Epoch 19 :: WER: 1.305, CER: 0.511\n"
     ]
    },
    {
     "name": "stderr",
     "output_type": "stream",
     "text": [
      "Epoch 20: 100%|██████████| 29/29 [00:07<00:00,  3.74it/s]\n"
     ]
    },
    {
     "name": "stdout",
     "output_type": "stream",
     "text": [
      "Epoch 20 :: WER: 1.567, CER: 0.629\n"
     ]
    }
   ],
   "source": [
    "# run another 20 epochs of training\n",
    "num_epochs = 20\n",
    "for epoch in range(num_epochs):\n",
    "    train_sampler.shuffle()\n",
    "    \n",
    "    model.train()\n",
    "    train_loader = tqdm(train_loader, desc=\"Epoch {}\".format(epoch+1))\n",
    "    for i, data in enumerate(train_loader):\n",
    "        feat, target, feat_len, target_len = data\n",
    "        if cuda:\n",
    "            feat = feat.cuda(async=True)\n",
    "        \n",
    "        optimizer.zero_grad()\n",
    "        \n",
    "        output, output_len = model(feat, feat_len)\n",
    "        loss = model.loss(output, target, output_len.squeeze(0), target_len)\n",
    "        \n",
    "        scalar_loss = loss.item()/feat.size(0)\n",
    "        if abs(scalar_loss) == math.inf:\n",
    "            scalar_loss = 0\n",
    "        \n",
    "        loss.backward()\n",
    "        torch.nn.utils.clip_grad_norm_(trainable_params, 400)\n",
    "        optimizer.step()\n",
    "    model.eval()\n",
    "    err = validate(eval_loader, model, tqdm=False)\n",
    "    print(\"Epoch {0} :: WER: {1:.3f}, CER: {2:.3f}\".format(epoch+1, err.wer, err.cer))\n",
    "    \n",
    "    if err.wer < best_wer:\n",
    "        best_wer = err.wer\n",
    "        torch.save(SpeechModel.serialize(model), new_model_path)"
   ]
  },
  {
   "cell_type": "code",
   "execution_count": null,
   "metadata": {},
   "outputs": [],
   "source": []
  }
 ],
 "metadata": {
  "kernelspec": {
   "display_name": "Python 3",
   "language": "python",
   "name": "python3"
  },
  "language_info": {
   "codemirror_mode": {
    "name": "ipython",
    "version": 3
   },
   "file_extension": ".py",
   "mimetype": "text/x-python",
   "name": "python",
   "nbconvert_exporter": "python",
   "pygments_lexer": "ipython3",
   "version": "3.6.4"
  }
 },
 "nbformat": 4,
 "nbformat_minor": 2
}
